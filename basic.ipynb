{
 "cells": [
  {
   "cell_type": "markdown",
   "metadata": {},
   "source": [
    "![einstein](https://www.thewealthwisher.com/wp-content/uploads/2017/01/albert-einstein-compound-interest-8th-wonder-of-the-world.jpg)\n",
    "\n",
    "## Simple growth rate\n",
    "\n",
    "This demonstrates the simple growth rate calculation. We apply the distributive property of multiplication: $c a + c b = c (a + b)$"
   ]
  },
  {
   "cell_type": "code",
   "execution_count": null,
   "metadata": {},
   "outputs": [],
   "source": [
    "100*(1+0.07)"
   ]
  },
  {
   "cell_type": "markdown",
   "metadata": {},
   "source": [
    "## Compounded growth rate\n",
    "\n",
    "The compounded growth rate is calculated using the formula $i(1 + r)^t$. This shows how an investment grows over t periods. According to the PEMDAS rule, exponents are evaluated before multiplication."
   ]
  },
  {
   "cell_type": "code",
   "execution_count": null,
   "metadata": {},
   "outputs": [],
   "source": [
    "100*(1+0.07)**2 # PEMDAS: Exponents before multiplication"
   ]
  },
  {
   "cell_type": "markdown",
   "metadata": {},
   "source": [
    "## Variables\n",
    "\n",
    "Here, we define variables for an investment scenario:\n",
    "- `i` is the initial investment.\n",
    "- `r` is the annual rate of return.\n",
    "- `t` is the time to maturity in years.\n",
    "\n",
    "We then calculate the future value of the investment using the formula $v = i (1 + r)^t$."
   ]
  },
  {
   "cell_type": "code",
   "execution_count": null,
   "metadata": {},
   "outputs": [],
   "source": [
    "i = 100 # Investment\n",
    "r = 0.07 # Annual rate of return\n",
    "t = 5 # Time to maturity in years\n",
    "\n",
    "v = i*(1+r)**t\n",
    "print(f\"The investment of {i} will grow anually by {r*100}% to a value of {v} in {t} years.\")\n"
   ]
  },
  {
   "cell_type": "markdown",
   "metadata": {},
   "source": [
    "## Loops\n",
    "\n",
    "This loop calculates the value of the investment at the end of each year. It shows how the investment grows each year."
   ]
  },
  {
   "cell_type": "code",
   "execution_count": null,
   "metadata": {},
   "outputs": [],
   "source": [
    "for n in range(t):\n",
    "    v = i*(1+r)**n\n",
    "    print(f\"The value at t={n} is {v}\")\n",
    "\n",
    "# Check the answer! What do you notice?\n"
   ]
  },
  {
   "cell_type": "markdown",
   "metadata": {},
   "source": [
    "## Lists\n",
    "\n",
    "Using a list to store the values of the investment over time, this code collects all yearly values in the list `values` and prints them."
   ]
  },
  {
   "cell_type": "code",
   "execution_count": null,
   "metadata": {},
   "outputs": [],
   "source": [
    "values = []\n",
    "for n in range(t):\n",
    "    v = i*(1+r)**n\n",
    "    values.append(v)\n",
    "print(values)"
   ]
  },
  {
   "cell_type": "markdown",
   "metadata": {},
   "source": [
    "## Questions\n",
    "\n",
    "1.  How long will it take to double your investment when r = 6%?\n",
    "2. You're planning to have 1000 EUR after 10 years. How much do you need to invest now if the rate of return is 8%?\n",
    "3. You want to receive an annual pay-out of 100 EUR during the coming 10 years. How much do you need to invest now if the rate of return is 8%?"
   ]
  },
  {
   "cell_type": "markdown",
   "metadata": {},
   "source": [
    "### Answer Q1\n",
    "\n",
    "To determine how long it will take to double the investment at a 6% annual rate of return, we can calculate the future value for different time periods until the value is at least double the initial investment."
   ]
  },
  {
   "cell_type": "code",
   "execution_count": null,
   "metadata": {},
   "outputs": [],
   "source": [
    "# Answer Q1\n",
    "\n",
    "i = 100 # Investment\n",
    "r = 0.06 # Annual rate of return\n",
    "t = 14 # Time to maturity in years\n",
    "\n",
    "# Loop through each year and calculate the compounded value\n",
    "for n in range(10,t):\n",
    "    v = None # Change this line\n",
    "    print(f\"The value at t={n} is {v}\")\n",
    "\n",
    "# For an estimate check out the 72-rule: https://youtu.be/y-Igv2H4LxQ?si=ZINrIxaWbJe5tGhj"
   ]
  },
  {
   "cell_type": "markdown",
   "metadata": {},
   "source": [
    "### Answer Q2\n",
    "\n",
    "To find out how much to invest now to have 1000 EUR after 10 years at an 8% rate of return, we rearrange the formula for calculating $v$ to solve for the initial investment $i$. We call $i$ the **present value** of $v$."
   ]
  },
  {
   "cell_type": "code",
   "execution_count": null,
   "metadata": {},
   "outputs": [],
   "source": [
    "# Answer Q2\n",
    "\n",
    "v = 1000 # Future value\n",
    "r = 0.08 # Annual rate of return\n",
    "t = 10 # Time to maturity in years\n",
    "\n",
    "i = None # Change this line\n",
    "\n",
    "print(f\"The investment of {i} will grow anually by {r*100}% to a value of {v} in {t} years.\")\n",
    "\n",
    "# Check the result\n",
    "v = i*(1+r)**t\n",
    "print(f\"Check: {v}\")"
   ]
  },
  {
   "cell_type": "markdown",
   "metadata": {},
   "source": [
    "### Answer Q3\n",
    "\n",
    "To find out how much to invest now to receive an annual payout of 100 EUR for the next 10 years at an 8% rate of return, we sum the present values of each annual payout."
   ]
  },
  {
   "cell_type": "code",
   "execution_count": null,
   "metadata": {},
   "outputs": [],
   "source": [
    "# Answer Q3\n",
    "\n",
    "v = 100 # Annual pay-out\n",
    "r = 0.08 # Annual rate of return\n",
    "t = 10 # Time to maturity in years\n",
    "s = 0\n",
    "\n",
    "for n in range(1, t+1):\n",
    "    s += 0 # Change this line\n",
    "print(f\"I need a starting capital of {s} to pay-out {v} annualy.\")\n",
    "\n",
    "# Check your answer\n",
    "for n in range(1, t+1):\n",
    "    print(f\"The value at the start of year {n} is {s}\")\n",
    "    s = s * (1+r) # Or s *= (1+r)\n",
    "    print(f\"The value at the end is of year {n} is {s} before pay-out.\")\n",
    "    s = s - v # Or s -= v\n"
   ]
  },
  {
   "cell_type": "markdown",
   "metadata": {},
   "source": [
    "## Working with packages\n",
    "\n",
    "Python packages are collections of modules that bundle code libraries for easy reuse. PIP is a tool for installing and managing Python packages. It comes pre-installed with Python versions 3.4 and later."
   ]
  },
  {
   "cell_type": "code",
   "execution_count": null,
   "metadata": {},
   "outputs": [],
   "source": [
    "# !pip install matplotlib\n",
    "from matplotlib import pyplot as plt\n",
    "\n",
    "plt.plot(values)\n"
   ]
  },
  {
   "cell_type": "markdown",
   "metadata": {},
   "source": [
    "## Functions\n",
    "\n",
    "Python functions are reusable blocks of code designed to perform a specific task. They help organize code, reduce redundancy, and improve readability. Functions are defined using the def keyword followed by a function name and parentheses."
   ]
  },
  {
   "cell_type": "code",
   "execution_count": null,
   "metadata": {},
   "outputs": [],
   "source": [
    "def future_value(i, r, t): # A function to calculate future values\n",
    "    v = i * (1 + r)**t\n",
    "    return(v)\n",
    "\n",
    "# Test\n",
    "i = 100 # Investment\n",
    "r = 0.07 # Annual rate of return\n",
    "t = 5 # Time to maturity in years\n",
    "\n",
    "v = future_value(i, r, t)\n",
    "print(f\"The investment of {i} will grow anually by {r*100}% to a value of {v} in {t} years.\")"
   ]
  },
  {
   "cell_type": "markdown",
   "metadata": {},
   "source": [
    "## Logical tests\n",
    "\n",
    "Logical tests in Python evaluate expressions to return `True` or `False`. They are essential for decision-making in code and are often used in conditional statements like `if`, `elif`, and `else`.\n",
    "\n",
    "### Key Logical Operators:\n",
    "- **Equality**: `==` (checks if two values are equal)\n",
    "- **Inequality**: `!=` (checks if two values are not equal)\n",
    "- **Greater than**: `>` (checks if the left value is greater)\n",
    "- **Less than**: `<` (checks if the left value is smaller)\n",
    "- **Greater than or equal to**: `>=`\n",
    "- **Less than or equal to**: `<=`\n",
    "\n",
    "### Combining Logical Tests:\n",
    "- **and**: Both conditions must be `True`\n",
    "- **or**: At least one condition must be `True`\n",
    "- **not**: Inverts the result\n",
    "\n",
    "Logical tests help control the flow of your program by allowing you to execute specific code blocks based on conditions."
   ]
  },
  {
   "cell_type": "code",
   "execution_count": null,
   "metadata": {},
   "outputs": [],
   "source": [
    "a = 5\n",
    "b = 10\n",
    "c = a * b\n",
    "print(b == 2 * a)\n",
    "print(c > b and a > b)\n",
    "print(c > b or a > b)"
   ]
  },
  {
   "cell_type": "code",
   "execution_count": null,
   "metadata": {},
   "outputs": [],
   "source": [
    "def target_value(i, r, t, x):\n",
    "    for n in range(t + 1):\n",
    "        v = future_value(i, r, n)\n",
    "        if v < x: # Logical test\n",
    "            print(f\"{v} is below target value {x}  at time {n}\")\n",
    "        else:\n",
    "            print(f\"{v} is above target value {x} at time {n}\")\n",
    "            return(n) # The loop breaks here\n",
    "\n",
    "# Test\n",
    "i = 100 # Investment\n",
    "r = 0.07 # Annual rate of return\n",
    "t = 12 # Time to maturity in years\n",
    "x = 200\n",
    "\n",
    "s = target_value(i, r, t, x)\n",
    "print(f\"Target value reached at t = {s}\")"
   ]
  },
  {
   "cell_type": "markdown",
   "metadata": {},
   "source": [
    "## Questions\n",
    "\n",
    "1. Write a function for calculating the present value `i` of a given amount `v` at time `t` using an compounded rate of return `r`.\n",
    "2. A call option is a financial instrument that gives the right (**not the obligation**) to buy a certain asset at a fixed price `X` (excercise price) until an expiration date `T`. Let `S` be the value of the asset just before the expiration date. Write a function that calculates the value of the call option for a given value `S`. More on options here: https://youtu.be/VJgHkAqohbU?si=8khh5qPOOUrvK9_6\n",
    "3. Plot the values of a call option with `X = 100` and `S = [80, 90, 100, 110, 120, 130, 140, 150]`.\n",
    "4. Check out [pypi.org](https://pypi.org/) and search for packages related to your field of study."
   ]
  },
  {
   "cell_type": "code",
   "execution_count": null,
   "metadata": {},
   "outputs": [],
   "source": [
    "# Answer Q1"
   ]
  },
  {
   "cell_type": "code",
   "execution_count": null,
   "metadata": {},
   "outputs": [],
   "source": [
    "# Answers Q2 and 3"
   ]
  },
  {
   "cell_type": "markdown",
   "metadata": {},
   "source": [
    "Please leave your feedback [here](https://hanbedrijfskunde.github.io/retrospective/en/?workshop=Python%20For%20Beginners)"
   ]
  }
 ],
 "metadata": {
  "kernelspec": {
   "display_name": ".venv",
   "language": "python",
   "name": "python3"
  },
  "language_info": {
   "codemirror_mode": {
    "name": "ipython",
    "version": 3
   },
   "file_extension": ".py",
   "mimetype": "text/x-python",
   "name": "python",
   "nbconvert_exporter": "python",
   "pygments_lexer": "ipython3",
   "version": "3.12.4"
  }
 },
 "nbformat": 4,
 "nbformat_minor": 2
}
